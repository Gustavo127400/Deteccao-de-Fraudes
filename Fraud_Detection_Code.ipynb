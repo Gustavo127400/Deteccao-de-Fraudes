{
  "nbformat": 4,
  "nbformat_minor": 0,
  "metadata": {
    "colab": {
      "provenance": []
    },
    "kernelspec": {
      "name": "python3",
      "display_name": "Python 3"
    },
    "language_info": {
      "name": "python"
    }
  },
  "cells": [
    {
      "cell_type": "markdown",
      "source": [
        "# 1️⃣ **Definição do Objetivo** 🎯"
      ],
      "metadata": {
        "id": "WKVbuZZirqG2"
      }
    },
    {
      "cell_type": "markdown",
      "source": [
        "Identificar padrões de transações fraudulentas e criar um modelo de detecção de fraudes baseado em dados históricos."
      ],
      "metadata": {
        "id": "haNCTbLRr2oQ"
      }
    },
    {
      "cell_type": "markdown",
      "source": [
        "#  2️⃣ **Exploração e Limpeza dos Dados** ✅"
      ],
      "metadata": {
        "id": "C1PPQ0Dlr9VV"
      }
    },
    {
      "cell_type": "markdown",
      "source": [
        "<h1> Informação de todas entidades.</h1>\n",
        "\n",
        "* Transaction_ID - ID da Transação - Tipo: object (texto).\n",
        "\n",
        "* User_ID - ID do Usuário - Tipo: int64 (número inteiro).\n",
        "\n",
        "* Transaction_Amount - Valor da Transação - Tipo: float64 (número decimal).\n",
        "\n",
        "* Transaction_Type - Tipo de Transação - Tipo: object (texto).\n",
        "\n",
        "* Time_of_Transaction - Horário da Transação - Tipo: float64 (número decimal).\n",
        "\n",
        "* Device_Used - Dispositivo Utilizado - Tipo: object (texto).\n",
        "\n",
        "* Location - Localização - Tipo: object (texto).\n",
        "\n",
        "* Previous_Fraudulent_Transactions - Transações Fraudulentas Anteriores - Tipo: int64 (número inteiro).\n",
        "\n",
        "* Account_Age - Tempo de Conta (Idade da Conta) - Tipo: int64 (número inteiro).\n",
        "\n",
        "* Number_of_Transactions_Last_24H - Número de Transações nas Últimas 24 Horas - Tipo: int64 (número inteiro).\n",
        "\n",
        "* Payment_Method - Método de Pagamento - Tipo: object (texto).\n",
        "\n",
        "* Fraudulent - Fraudulenta - Tipo: int64 (número inteiro, 0 ou 1)."
      ],
      "metadata": {
        "id": "0dM58ldxyMPN"
      }
    },
    {
      "cell_type": "code",
      "source": [
        "# Importei a biblioteca pandas para manipulação de dados\n",
        "import pandas as pd\n",
        "\n",
        "# Carreguei o dataset 'Fraud Detection Dataset.csv' em um DataFrame chamado df_fraud\n",
        "df_fraud = pd.read_csv('Fraud Detection Dataset.csv', sep=',')\n",
        "\n",
        "# Usei a mediana para reduzir o impacto de outliers\n",
        "df_fraud.loc[:, 'Transaction_Amount'] = df_fraud['Transaction_Amount'].fillna(df_fraud['Transaction_Amount'].median())\n",
        "\n",
        "# Usei a média para consistência do tempo médio das transações\n",
        "df_fraud.loc[:, 'Time_of_Transaction'] = df_fraud['Time_of_Transaction'].fillna(df_fraud['Time_of_Transaction'].mean())\n",
        "\n",
        "# Por ser coluna categórica, substituí os valores ausentes por um valor fixo\n",
        "df_fraud.loc[:, 'Device_Used'] = df_fraud['Device_Used'].fillna('Unknown')\n",
        "\n",
        "# Como também é uma coluna categórica, substituí por um valor fixo\n",
        "df_fraud.loc[:, 'Location'] = df_fraud['Location'].fillna('Unknown')\n",
        "\n",
        "# Utilizei a moda (valor mais frequente) para preencher valores ausentes, assumindo que o método de pagamento mais comum é a melhor escolha\n",
        "df_fraud.loc[:, 'Payment_Method'] = df_fraud['Payment_Method'].fillna(df_fraud['Payment_Method'].mode()[0])"
      ],
      "metadata": {
        "id": "2o-6OSiosDcU"
      },
      "execution_count": 3,
      "outputs": []
    },
    {
      "cell_type": "markdown",
      "source": [
        "#  3️⃣ **Remoção e tratamento de duplicatas ✅**"
      ],
      "metadata": {
        "id": "dB96nCM4X57J"
      }
    },
    {
      "cell_type": "code",
      "source": [
        "# Método utilizado para remoção de dados duplicados\n",
        "df_fraud.drop_duplicates(inplace=True)"
      ],
      "metadata": {
        "id": "SM47J6D7scqj"
      },
      "execution_count": 4,
      "outputs": []
    },
    {
      "cell_type": "markdown",
      "source": [],
      "metadata": {
        "id": "un23eNbk87tl"
      }
    },
    {
      "cell_type": "markdown",
      "source": [
        "# **Análise Descritiva das Transações** 🔎"
      ],
      "metadata": {
        "id": "s6EV6ST87xks"
      }
    },
    {
      "cell_type": "code",
      "source": [
        "analise_estatistica = f\"\"\"\n",
        "📊 **Análise Estatística Descritiva**\n",
        "\n",
        "--- Principais métricas que descobri ---\n",
        "\n",
        "Média = {df_fraud['Transaction_Amount'].mean():,.2f} → Valor médio das transações\n",
        "\n",
        "Desvio Padrão = {df_fraud['Transaction_Amount'].std():,.2f} →  Desvio Padrão\n",
        "\n",
        "Mínimo = {df_fraud['Transaction_Amount'].min():,.2f} → Algumas transações são extremamente baixas.\n",
        "\n",
        "Máximo = {df_fraud['Transaction_Amount'].max():,.2f} → Mostra que no dataset possui valores altos.\n",
        "\n",
        "\n",
        "\n",
        "\n",
        "\n",
        "\n",
        "--- Desvio Padrão dos valores ---\n",
        "\n",
        "Q1 (25%) = {df_fraud['Transaction_Amount'].quantile(0.25):,.2f} → 25% das transações estão abaixo desse valor.\n",
        "\n",
        "Q2 (Mediana) = {df_fraud['Transaction_Amount'].median():,.2f} → Metade das transações está abaixo desse valor.\n",
        "\n",
        "Q3 (75%) = {df_fraud['Transaction_Amount'].quantile(0.75):,.2f} → 75% das transações estão abaixo desse valor.\n",
        "\n",
        "\n",
        "\n",
        "\n",
        "\n",
        "---  Alguns insights que obtive.  ---\n",
        "\n",
        "- Valores acima de {df_fraud['Transaction_Amount'].quantile(0.75):,.2f} já são considerados altos (último quartil)\n",
        "\n",
        "- O valor máximo ({df_fraud['Transaction_Amount'].max():,.2f}) é {df_fraud['Transaction_Amount'].max()/df_fraud['Transaction_Amount'].median():.1f}x maior que a mediana\n",
        "\n",
        "- A média ({df_fraud['Transaction_Amount'].mean():,.2f}) > mediana ({df_fraud['Transaction_Amount'].median():,.2f})  \"\"\"\n",
        "\n",
        "print(analise_estatistica)"
      ],
      "metadata": {
        "id": "mdF5JNlYavfR",
        "colab": {
          "base_uri": "https://localhost:8080/"
        },
        "outputId": "c5fed18c-7f99-46ed-a6de-fb7088c1f294"
      },
      "execution_count": 5,
      "outputs": [
        {
          "output_type": "stream",
          "name": "stdout",
          "text": [
            "\n",
            "📊 **Análise Estatística Descritiva**\n",
            "\n",
            "--- Principais métricas que descobri ---\n",
            "\n",
            "Média = 2,975.64 → Valor médio das transações\n",
            "\n",
            "Desvio Padrão = 4,935.68 →  Desvio Padrão\n",
            "\n",
            "Mínimo = 5.03 → Algumas transações são extremamente baixas.\n",
            "\n",
            "Máximo = 49,997.80 → Mostra que no dataset possui valores altos.\n",
            "\n",
            "\n",
            "\n",
            "\n",
            "\n",
            "\n",
            "--- Desvio Padrão dos valores ---\n",
            "\n",
            "Q1 (25%) = 1,333.37 → 25% das transações estão abaixo desse valor.\n",
            "\n",
            "Q2 (Mediana) = 2,524.10 → Metade das transações está abaixo desse valor.\n",
            "\n",
            "Q3 (75%) = 3,721.76 → 75% das transações estão abaixo desse valor.\n",
            "\n",
            "\n",
            "\n",
            "\n",
            "\n",
            "---  Alguns insights que obtive.  ---\n",
            "\n",
            "- Valores acima de 3,721.76 já são considerados altos (último quartil)\n",
            "\n",
            "- O valor máximo (49,997.80) é 19.8x maior que a mediana\n",
            "\n",
            "- A média (2,975.64) > mediana (2,524.10)  \n"
          ]
        }
      ]
    },
    {
      "cell_type": "markdown",
      "source": [
        "# 4️⃣ **Tratamento e investigação de outliers**\n"
      ],
      "metadata": {
        "id": "M3KQiKRJZGWF"
      }
    },
    {
      "cell_type": "code",
      "source": [
        "import pandas as pd\n",
        "import seaborn as sns\n",
        "import matplotlib.pyplot as plt\n",
        "\n",
        "# Defini o estilo visual dos gráficos para melhor estética\n",
        "sns.set(style=\"whitegrid\")\n",
        "\n",
        "# Calculei os quartis da variável Transaction_Amount (25%, 50% e 75%)\n",
        "quartis = df_fraud['Transaction_Amount'].quantile([0.25, 0.5, 0.75])\n",
        "\n",
        "# Filtrei o dataset para remover o top 5% das transações (evita distorção visual no gráfico)\n",
        "filtered_df = df_fraud[df_fraud['Transaction_Amount'] < df_fraud['Transaction_Amount'].quantile(0.95)]\n",
        "\n",
        "# Tamanho da figura.\n",
        "plt.figure(figsize=(10, 5))\n",
        "\n",
        "# Verifiquei se a coluna 'fraud' existe para separar as transações por classe (fraude/não fraude)\n",
        "if 'fraud' in df_fraud.columns:\n",
        "    # Cria boxplot horizontal com coloração por classe (fraude)\n",
        "    sns.boxplot(data=filtered_df, x='Transaction_Amount', y='fraud', orient='h', palette='coolwarm')\n",
        "else:\n",
        "    # Se a coluna não existir, exibe apenas o boxplot geral\n",
        "    sns.boxplot(x=filtered_df['Transaction_Amount'], color='skyblue')\n",
        "\n",
        "# Adicionei linhas verticais nos quartis (Q1, Q2, Q3) para ajudar na leitura da distribuição\n",
        "for q in quartis:\n",
        "    plt.axvline(q, color='red', linestyle='--', alpha=0.6)\n",
        "\n",
        "# Apliquei escala logarítmica no eixo X para melhor visualização da cauda longa\n",
        "plt.xscale('log')\n",
        "\n",
        "# Títulos e rótulos dos eixos\n",
        "plt.title('Distribuição de Valores Transacionais (com escala logarítmica)', fontsize=14)\n",
        "plt.xlabel('Transaction Amount (Log Scale)', fontsize=12)\n",
        "\n",
        "# Ajustei o rótulo do eixo Y se a coluna 'is_fraud' estiver disponível\n",
        "plt.ylabel('Fraude' if 'is_fraud' in df_fraud.columns else '')\n",
        "\n",
        "# Ajustei layout para evitar sobreposição\n",
        "plt.tight_layout()\n",
        "\n",
        "# Exibi o gráfico\n",
        "plt.show()\n",
        "\n",
        "# --- Estatísticas descritivas ---\n",
        "\n",
        "# Exibe estatísticas descritivas da coluna Transaction_Amount (count, mean, std, min, quartis, max)\n",
        "stats = df_fraud['Transaction_Amount'].describe().round(2)\n",
        "print(\"Estatísticas descritivas:\")\n",
        "print(stats)\n"
      ],
      "metadata": {
        "colab": {
          "base_uri": "https://localhost:8080/",
          "height": 683
        },
        "id": "2pQmhjgvZPZN",
        "outputId": "a9eae343-eec5-4c3f-a5c9-c83b8f1b1938"
      },
      "execution_count": 11,
      "outputs": [
        {
          "output_type": "display_data",
          "data": {
            "text/plain": [
              "<Figure size 1000x500 with 1 Axes>"
            ],
            "image/png": "[encoded data removed]"
          },
          "metadata": {}
        },
        {
          "output_type": "stream",
          "name": "stdout",
          "text": [
            "Estatísticas descritivas:\n",
            "count    50119.00\n",
            "mean      2975.64\n",
            "std       4935.68\n",
            "min          5.03\n",
            "25%       1333.37\n",
            "50%       2524.10\n",
            "75%       3721.76\n",
            "max      49997.80\n",
            "Name: Transaction_Amount, dtype: float64\n"
          ]
        }
      ]
    }
  ]
}