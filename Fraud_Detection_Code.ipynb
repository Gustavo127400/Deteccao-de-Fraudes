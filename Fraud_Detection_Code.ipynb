{
  "nbformat": 4,
  "nbformat_minor": 0,
  "metadata": {
    "colab": {
      "provenance": [],
      "toc_visible": true
    },
    "kernelspec": {
      "name": "python3",
      "display_name": "Python 3"
    },
    "language_info": {
      "name": "python"
    }
  },
  "cells": [
    {
      "cell_type": "markdown",
      "source": [
        "# 1️⃣ **Definição do Objetivo** 🎯"
      ],
      "metadata": {
        "id": "WKVbuZZirqG2"
      }
    },
    {
      "cell_type": "markdown",
      "source": [
        "Identificar padrões de transações fraudulentas e criar um modelo de detecção de fraudes baseado em dados históricos."
      ],
      "metadata": {
        "id": "haNCTbLRr2oQ"
      }
    },
    {
      "cell_type": "markdown",
      "source": [
        "#  2️⃣ **Exploração e Limpeza dos Dados** ✅"
      ],
      "metadata": {
        "id": "C1PPQ0Dlr9VV"
      }
    },
    {
      "cell_type": "markdown",
      "source": [
        "<h1> Informação de todas entidades.</h1>\n",
        "\n",
        "* Transaction_ID - ID da Transação - Tipo: object (texto).\n",
        "\n",
        "* User_ID - ID do Usuário - Tipo: int64 (número inteiro).\n",
        "\n",
        "* Transaction_Amount - Valor da Transação - Tipo: float64 (número decimal).\n",
        "\n",
        "* Transaction_Type - Tipo de Transação - Tipo: object (texto).\n",
        "\n",
        "* Time_of_Transaction - Horário da Transação - Tipo: float64 (número decimal).\n",
        "\n",
        "* Device_Used - Dispositivo Utilizado - Tipo: object (texto).\n",
        "\n",
        "* Location - Localização - Tipo: object (texto).\n",
        "\n",
        "* Previous_Fraudulent_Transactions - Transações Fraudulentas Anteriores - Tipo: int64 (número inteiro).\n",
        "\n",
        "* Account_Age - Tempo de Conta (Idade da Conta) - Tipo: int64 (número inteiro).\n",
        "\n",
        "* Number_of_Transactions_Last_24H - Número de Transações nas Últimas 24 Horas - Tipo: int64 (número inteiro).\n",
        "\n",
        "* Payment_Method - Método de Pagamento - Tipo: object (texto).\n",
        "\n",
        "* Fraudulent - Fraudulenta - Tipo: int64 (número inteiro, 0 ou 1)."
      ],
      "metadata": {
        "id": "0dM58ldxyMPN"
      }
    },
    {
      "cell_type": "code",
      "source": [
        "# Importei a biblioteca pandas para manipulação de dados\n",
        "import pandas as pd\n",
        "\n",
        "# Carreguei o dataset 'Fraud Detection Dataset.csv' em um DataFrame chamado df_fraud\n",
        "df_fraud = pd.read_csv('Fraud Detection Dataset.csv', sep=',')\n",
        "\n",
        "# Usei a mediana para reduzir o impacto de outliers\n",
        "df_fraud.loc[:, 'Transaction_Amount'] = df_fraud['Transaction_Amount'].fillna(df_fraud['Transaction_Amount'].median())\n",
        "\n",
        "# Usei a média para consistência do tempo médio das transações\n",
        "df_fraud.loc[:, 'Time_of_Transaction'] = df_fraud['Time_of_Transaction'].fillna(df_fraud['Time_of_Transaction'].mean())\n",
        "\n",
        "# Por ser coluna categórica, substituí os valores ausentes por um valor fixo\n",
        "df_fraud.loc[:, 'Device_Used'] = df_fraud['Device_Used'].fillna('Unknown')\n",
        "\n",
        "# Como também é uma coluna categórica, substituí por um valor fixo\n",
        "df_fraud.loc[:, 'Location'] = df_fraud['Location'].fillna('Unknown')\n",
        "\n",
        "# Utilizei a moda (valor mais frequente) para preencher valores ausentes, assumindo que o método de pagamento mais comum é a melhor escolha\n",
        "df_fraud.loc[:, 'Payment_Method'] = df_fraud['Payment_Method'].fillna(df_fraud['Payment_Method'].mode()[0])"
      ],
      "metadata": {
        "id": "2o-6OSiosDcU"
      },
      "execution_count": 2,
      "outputs": []
    },
    {
      "cell_type": "markdown",
      "source": [
        "#  3️⃣ **Remoção e tratamento de duplicatas ✅**"
      ],
      "metadata": {
        "id": "dB96nCM4X57J"
      }
    },
    {
      "cell_type": "code",
      "source": [
        "# Método utilizado para remoção de dados duplicados\n",
        "df_fraud.drop_duplicates(inplace=True)"
      ],
      "metadata": {
        "id": "SM47J6D7scqj"
      },
      "execution_count": 3,
      "outputs": []
    },
    {
      "cell_type": "markdown",
      "source": [],
      "metadata": {
        "id": "un23eNbk87tl"
      }
    },
    {
      "cell_type": "markdown",
      "source": [
        "# **Análise Descritiva das Transações** 🔎"
      ],
      "metadata": {
        "id": "s6EV6ST87xks"
      }
    },
    {
      "cell_type": "code",
      "source": [
        "analise_estatistica = f\"\"\"\n",
        "📊 **Análise Estatística Descritiva**\n",
        "\n",
        "--- Principais métricas que descobri ---\n",
        "\n",
        "Média = {df_fraud['Transaction_Amount'].mean():,.2f} → Valor médio das transações\n",
        "\n",
        "Desvio Padrão = {df_fraud['Transaction_Amount'].std():,.2f} →  Desvio Padrão\n",
        "\n",
        "Mínimo = {df_fraud['Transaction_Amount'].min():,.2f} → Algumas transações são extremamente baixas.\n",
        "\n",
        "Máximo = {df_fraud['Transaction_Amount'].max():,.2f} → Mostra que no dataset possuo valores discrepantes.\n",
        "\n",
        "\n",
        "\n",
        "\n",
        "\n",
        "\n",
        "--- Desvio Padrão dos valores ---\n",
        "\n",
        "Q1 (25%) = {df_fraud['Transaction_Amount'].quantile(0.25):,.2f} → 25% das transações estão abaixo desse valor.\n",
        "\n",
        "Q2 (Mediana) = {df_fraud['Transaction_Amount'].median():,.2f} → Metade das transações está abaixo desse valor.\n",
        "\n",
        "Q3 (75%) = {df_fraud['Transaction_Amount'].quantile(0.75):,.2f} → 75% das transações estão abaixo desse valor.\n",
        "\n",
        "\n",
        "\n",
        "\n",
        "\n",
        "---  Alguns insights que obtive.  ---\n",
        "\n",
        "- Valores acima de {df_fraud['Transaction_Amount'].quantile(0.75):,.2f} já são considerados altos (último quartil)\n",
        "\n",
        "- O valor máximo ({df_fraud['Transaction_Amount'].max():,.2f}) é {df_fraud['Transaction_Amount'].max()/df_fraud['Transaction_Amount'].median():.1f}x maior que a mediana\n",
        "\n",
        "- A média ({df_fraud['Transaction_Amount'].mean():,.2f}) > mediana ({df_fraud['Transaction_Amount'].median():,.2f})  \"\"\"\n",
        "\n",
        "print(analise_estatistica)"
      ],
      "metadata": {
        "id": "mdF5JNlYavfR",
        "colab": {
          "base_uri": "https://localhost:8080/"
        },
        "outputId": "e4bf1651-631e-4e67-ad3d-51c3163230cb"
      },
      "execution_count": 16,
      "outputs": [
        {
          "output_type": "stream",
          "name": "stdout",
          "text": [
            "\n",
            "📊 **Análise Estatística Descritiva**\n",
            "\n",
            "--- Principais métricas que descobri ---\n",
            "\n",
            "Média = 2,975.64 → Valor médio das transações\n",
            "\n",
            "Desvio Padrão = 4,935.68 →  Desvio Padrão\n",
            "\n",
            "Mínimo = 5.03 → Algumas transações são extremamente baixas.\n",
            "\n",
            "Máximo = 49,997.80 → Mostra que no dataset possuo valores discrepantes.\n",
            "\n",
            "\n",
            "\n",
            "\n",
            "\n",
            "\n",
            "--- Desvio Padrão dos valores ---\n",
            "\n",
            "Q1 (25%) = 1,333.37 → 25% das transações estão abaixo desse valor.\n",
            "\n",
            "Q2 (Mediana) = 2,524.10 → Metade das transações está abaixo desse valor.\n",
            "\n",
            "Q3 (75%) = 3,721.76 → 75% das transações estão abaixo desse valor.\n",
            "\n",
            "\n",
            "\n",
            "\n",
            "\n",
            "---  Alguns insights que obtive.  ---\n",
            "\n",
            "- Valores acima de 3,721.76 já são considerados altos (último quartil)\n",
            "\n",
            "- O valor máximo (49,997.80) é 19.8x maior que a mediana\n",
            "\n",
            "- A média (2,975.64) > mediana (2,524.10)  \n"
          ]
        }
      ]
    },
    {
      "cell_type": "markdown",
      "source": [
        "# 4️⃣ **Tratamento e investigação de outliers**\n"
      ],
      "metadata": {
        "id": "M3KQiKRJZGWF"
      }
    },
    {
      "cell_type": "code",
      "source": [
        "# Bibliotecas de data visualization\n",
        "import seaborn as sns\n",
        "import matplotlib.pyplot as plt\n",
        "\n",
        "#Criei um boxplot para fazer uma análise simples e identificação de outliers.\n",
        "sns.boxplot(x=df_fraud['Transaction_Amount'])\n",
        "\n",
        "#Método que mostra o gráfico.\n",
        "plt.show()\n",
        "\n",
        "# Criei um Series de 10000 até 50000 para calcular os quartis.\n",
        "transaction_amounts = pd.Series([10000, 20000, 30000, 40000, 50000])\n",
        "\n",
        "# Calculando os quartis (Q1, Q2=mediana, Q3)\n",
        "\n",
        "quartis = transaction_amounts.quantile([0.25, 0.5, 0.75])\n",
        "\n",
        "\n",
        "stats = df_fraud['Transaction_Amount'].describe().round(2)\n",
        "stats\n",
        "# Perguntas-Chave para Exploração\n",
        "#Qual a distribuição percentual dos valores transacionais?\n",
        "\n",
        "#Existe correlação entre valor alto e indicadores de fraude?\n",
        "\n",
        "#Como os outliers se distribuem geograficamente?\n",
        "\n",
        "# Há padrões de valores repetidos que possam indicar comportamento suspeito?"
      ],
      "metadata": {
        "colab": {
          "base_uri": "https://localhost:8080/",
          "height": 768
        },
        "id": "2pQmhjgvZPZN",
        "outputId": "b756f2ea-bbe1-4fd3-a751-11ef8955638e"
      },
      "execution_count": 6,
      "outputs": [
        {
          "output_type": "display_data",
          "data": {
            "text/plain": [
              "<Figure size 640x480 with 1 Axes>"
            ],
            "image/png": "[encoded data removed]"
          },
          "metadata": {}
        },
        {
          "output_type": "execute_result",
          "data": {
            "text/plain": [
              "count    50119.00\n",
              "mean      2975.64\n",
              "std       4935.68\n",
              "min          5.03\n",
              "25%       1333.37\n",
              "50%       2524.10\n",
              "75%       3721.76\n",
              "max      49997.80\n",
              "Name: Transaction_Amount, dtype: float64"
            ],
            "text/html": [
              "<div>\n",
              "<style scoped>\n",
              "    .dataframe tbody tr th:only-of-type {\n",
              "        vertical-align: middle;\n",
              "    }\n",
              "\n",
              "    .dataframe tbody tr th {\n",
              "        vertical-align: top;\n",
              "    }\n",
              "\n",
              "    .dataframe thead th {\n",
              "        text-align: right;\n",
              "    }\n",
              "</style>\n",
              "<table border=\"1\" class=\"dataframe\">\n",
              "  <thead>\n",
              "    <tr style=\"text-align: right;\">\n",
              "      <th></th>\n",
              "      <th>Transaction_Amount</th>\n",
              "    </tr>\n",
              "  </thead>\n",
              "  <tbody>\n",
              "    <tr>\n",
              "      <th>count</th>\n",
              "      <td>50119.00</td>\n",
              "    </tr>\n",
              "    <tr>\n",
              "      <th>mean</th>\n",
              "      <td>2975.64</td>\n",
              "    </tr>\n",
              "    <tr>\n",
              "      <th>std</th>\n",
              "      <td>4935.68</td>\n",
              "    </tr>\n",
              "    <tr>\n",
              "      <th>min</th>\n",
              "      <td>5.03</td>\n",
              "    </tr>\n",
              "    <tr>\n",
              "      <th>25%</th>\n",
              "      <td>1333.37</td>\n",
              "    </tr>\n",
              "    <tr>\n",
              "      <th>50%</th>\n",
              "      <td>2524.10</td>\n",
              "    </tr>\n",
              "    <tr>\n",
              "      <th>75%</th>\n",
              "      <td>3721.76</td>\n",
              "    </tr>\n",
              "    <tr>\n",
              "      <th>max</th>\n",
              "      <td>49997.80</td>\n",
              "    </tr>\n",
              "  </tbody>\n",
              "</table>\n",
              "</div><br><label><b>dtype:</b> float64</label>"
            ]
          },
          "metadata": {},
          "execution_count": 6
        }
      ]
    },
    {
      "cell_type": "markdown",
      "source": [
        "# Investigação de transações fraudulentas."
      ],
      "metadata": {
        "id": "DU4MuahQ8Ehw"
      }
    },
    {
      "cell_type": "code",
      "source": [
        "# Consultei essa saída para verificação e algumas informações sobre transações fraudulenta.\n",
        "linha_31190 = df_fraud.loc[31190]\n",
        "linha_31190\n",
        "# A fazer: Investigar e pegar características de transações fraudulenta."
      ],
      "metadata": {
        "colab": {
          "base_uri": "https://localhost:8080/",
          "height": 460
        },
        "id": "nC4XPZETZZbK",
        "outputId": "669015c7-f912-4541-bbc0-491aa75e8d5b"
      },
      "execution_count": 17,
      "outputs": [
        {
          "output_type": "execute_result",
          "data": {
            "text/plain": [
              "Transaction_ID                             T31191\n",
              "User_ID                                      3777\n",
              "Transaction_Amount                        49997.8\n",
              "Transaction_Type                    Bank Transfer\n",
              "Time_of_Transaction                           2.0\n",
              "Device_Used                                Tablet\n",
              "Location                              Los Angeles\n",
              "Previous_Fraudulent_Transactions                1\n",
              "Account_Age                                   106\n",
              "Number_of_Transactions_Last_24H                 5\n",
              "Payment_Method                        Credit Card\n",
              "Fraudulent                                      0\n",
              "Name: 31190, dtype: object"
            ],
            "text/html": [
              "<div>\n",
              "<style scoped>\n",
              "    .dataframe tbody tr th:only-of-type {\n",
              "        vertical-align: middle;\n",
              "    }\n",
              "\n",
              "    .dataframe tbody tr th {\n",
              "        vertical-align: top;\n",
              "    }\n",
              "\n",
              "    .dataframe thead th {\n",
              "        text-align: right;\n",
              "    }\n",
              "</style>\n",
              "<table border=\"1\" class=\"dataframe\">\n",
              "  <thead>\n",
              "    <tr style=\"text-align: right;\">\n",
              "      <th></th>\n",
              "      <th>31190</th>\n",
              "    </tr>\n",
              "  </thead>\n",
              "  <tbody>\n",
              "    <tr>\n",
              "      <th>Transaction_ID</th>\n",
              "      <td>T31191</td>\n",
              "    </tr>\n",
              "    <tr>\n",
              "      <th>User_ID</th>\n",
              "      <td>3777</td>\n",
              "    </tr>\n",
              "    <tr>\n",
              "      <th>Transaction_Amount</th>\n",
              "      <td>49997.8</td>\n",
              "    </tr>\n",
              "    <tr>\n",
              "      <th>Transaction_Type</th>\n",
              "      <td>Bank Transfer</td>\n",
              "    </tr>\n",
              "    <tr>\n",
              "      <th>Time_of_Transaction</th>\n",
              "      <td>2.0</td>\n",
              "    </tr>\n",
              "    <tr>\n",
              "      <th>Device_Used</th>\n",
              "      <td>Tablet</td>\n",
              "    </tr>\n",
              "    <tr>\n",
              "      <th>Location</th>\n",
              "      <td>Los Angeles</td>\n",
              "    </tr>\n",
              "    <tr>\n",
              "      <th>Previous_Fraudulent_Transactions</th>\n",
              "      <td>1</td>\n",
              "    </tr>\n",
              "    <tr>\n",
              "      <th>Account_Age</th>\n",
              "      <td>106</td>\n",
              "    </tr>\n",
              "    <tr>\n",
              "      <th>Number_of_Transactions_Last_24H</th>\n",
              "      <td>5</td>\n",
              "    </tr>\n",
              "    <tr>\n",
              "      <th>Payment_Method</th>\n",
              "      <td>Credit Card</td>\n",
              "    </tr>\n",
              "    <tr>\n",
              "      <th>Fraudulent</th>\n",
              "      <td>0</td>\n",
              "    </tr>\n",
              "  </tbody>\n",
              "</table>\n",
              "</div><br><label><b>dtype:</b> object</label>"
            ]
          },
          "metadata": {},
          "execution_count": 17
        }
      ]
    },
    {
      "cell_type": "code",
      "source": [],
      "metadata": {
        "id": "HJwhHyWs_aMl"
      },
      "execution_count": null,
      "outputs": []
    }
  ]
}