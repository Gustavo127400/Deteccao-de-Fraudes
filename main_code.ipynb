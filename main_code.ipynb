{
  "nbformat": 4,
  "nbformat_minor": 0,
  "metadata": {
    "colab": {
      "provenance": []
    },
    "kernelspec": {
      "name": "python3",
      "display_name": "Python 3"
    },
    "language_info": {
      "name": "python"
    }
  },
  "cells": [
    {
      "cell_type": "markdown",
      "source": [
        "# 1️⃣ **Definição do Objetivo**"
      ],
      "metadata": {
        "id": "WKVbuZZirqG2"
      }
    },
    {
      "cell_type": "markdown",
      "source": [
        "Identificar padrões de transações fraudulentas e criar um modelo de detecção de fraudes baseado em dados históricos."
      ],
      "metadata": {
        "id": "haNCTbLRr2oQ"
      }
    },
    {
      "cell_type": "markdown",
      "source": [
        "#  2️⃣ **Exploração e Limpeza dos Dados**"
      ],
      "metadata": {
        "id": "C1PPQ0Dlr9VV"
      }
    },
    {
      "cell_type": "markdown",
      "source": [
        "# Informação das entidades com valores nulos\n",
        "\n",
        "* Transaction_Amount         -         2520\n",
        "* Time_of_Transaction       -          2552\n",
        "* Device_Used              -           2473\n",
        "* Location                -            2547\n",
        "* Payment_Method        -               2469\n"
      ],
      "metadata": {
        "id": "0dM58ldxyMPN"
      }
    },
    {
      "cell_type": "code",
      "source": [
        "# Importa a biblioteca pandas para manipulação de dados\n",
        "import pandas as pd\n",
        "\n",
        "# Carrega o dataset 'Fraud Detection Dataset.csv' em um DataFrame chamado df_fraud\n",
        "df_fraud = pd.read_csv('Fraud Detection Dataset.csv', sep=',')\n",
        "\n",
        "# Utilizei mediana para ficar fora de outliers\n",
        "df_fraud['Transaction_Amount'].fillna(df_fraud['Transaction_Amount'].median(), inplace=True)\n",
        "\n",
        "# Usei a média para consistência do tempo médio das transações\n",
        "df_fraud['Time_of_Transaction'].fillna(df_fraud['Time_of_Transaction'].mean(), inplace=True)\n",
        "\n",
        "# Por ser coluna categórica, substituí os valores ausentes por um valor fixo\n",
        "df_fraud['Device_Used'].fillna('Unknown', inplace=True)\n",
        "\n",
        "# Como também é uma coluna categórica, subsitituí por um valor fixo.\n",
        "df_fraud['Location'].fillna('Unknown', inplace=True)\n",
        "\n",
        "# Utilizei a moda (valor mais frequente) para preencher valores ausentes, assumindo que o método de pagamento mais comum é a melhor escolha.\n",
        "df_fraud['Payment_Method'].fillna(df_fraud['Payment_Method'].mode()[0], inplace=True)\n",
        "\n",
        "# Verifica a quantidade de valores nulos (NaN) restantes em cada coluna do DataFrame\n",
        "print(df_fraud.isnull().sum())"
      ],
      "metadata": {
        "colab": {
          "base_uri": "https://localhost:8080/"
        },
        "id": "2o-6OSiosDcU",
        "outputId": "7b5d8356-72d9-46f0-e3cc-094ea97ce2fa"
      },
      "execution_count": 19,
      "outputs": [
        {
          "output_type": "stream",
          "name": "stdout",
          "text": [
            "Transaction_ID                      0\n",
            "User_ID                             0\n",
            "Transaction_Amount                  0\n",
            "Transaction_Type                    0\n",
            "Time_of_Transaction                 0\n",
            "Device_Used                         0\n",
            "Location                            0\n",
            "Previous_Fraudulent_Transactions    0\n",
            "Account_Age                         0\n",
            "Number_of_Transactions_Last_24H     0\n",
            "Payment_Method                      0\n",
            "Fraudulent                          0\n",
            "dtype: int64\n"
          ]
        },
        {
          "output_type": "stream",
          "name": "stderr",
          "text": [
            "<ipython-input-19-71c4879112aa>:4: FutureWarning: A value is trying to be set on a copy of a DataFrame or Series through chained assignment using an inplace method.\n",
            "The behavior will change in pandas 3.0. This inplace method will never work because the intermediate object on which we are setting values always behaves as a copy.\n",
            "\n",
            "For example, when doing 'df[col].method(value, inplace=True)', try using 'df.method({col: value}, inplace=True)' or df[col] = df[col].method(value) instead, to perform the operation inplace on the original object.\n",
            "\n",
            "\n",
            "  df_fraud['Transaction_Amount'].fillna(df_fraud['Transaction_Amount'].median(), inplace=True)\n",
            "<ipython-input-19-71c4879112aa>:5: FutureWarning: A value is trying to be set on a copy of a DataFrame or Series through chained assignment using an inplace method.\n",
            "The behavior will change in pandas 3.0. This inplace method will never work because the intermediate object on which we are setting values always behaves as a copy.\n",
            "\n",
            "For example, when doing 'df[col].method(value, inplace=True)', try using 'df.method({col: value}, inplace=True)' or df[col] = df[col].method(value) instead, to perform the operation inplace on the original object.\n",
            "\n",
            "\n",
            "  df_fraud['Time_of_Transaction'].fillna(df_fraud['Time_of_Transaction'].mean(), inplace=True)\n",
            "<ipython-input-19-71c4879112aa>:6: FutureWarning: A value is trying to be set on a copy of a DataFrame or Series through chained assignment using an inplace method.\n",
            "The behavior will change in pandas 3.0. This inplace method will never work because the intermediate object on which we are setting values always behaves as a copy.\n",
            "\n",
            "For example, when doing 'df[col].method(value, inplace=True)', try using 'df.method({col: value}, inplace=True)' or df[col] = df[col].method(value) instead, to perform the operation inplace on the original object.\n",
            "\n",
            "\n",
            "  df_fraud['Device_Used'].fillna('Unknown', inplace=True)\n",
            "<ipython-input-19-71c4879112aa>:7: FutureWarning: A value is trying to be set on a copy of a DataFrame or Series through chained assignment using an inplace method.\n",
            "The behavior will change in pandas 3.0. This inplace method will never work because the intermediate object on which we are setting values always behaves as a copy.\n",
            "\n",
            "For example, when doing 'df[col].method(value, inplace=True)', try using 'df.method({col: value}, inplace=True)' or df[col] = df[col].method(value) instead, to perform the operation inplace on the original object.\n",
            "\n",
            "\n",
            "  df_fraud['Location'].fillna('Unknown', inplace=True)\n",
            "<ipython-input-19-71c4879112aa>:8: FutureWarning: A value is trying to be set on a copy of a DataFrame or Series through chained assignment using an inplace method.\n",
            "The behavior will change in pandas 3.0. This inplace method will never work because the intermediate object on which we are setting values always behaves as a copy.\n",
            "\n",
            "For example, when doing 'df[col].method(value, inplace=True)', try using 'df.method({col: value}, inplace=True)' or df[col] = df[col].method(value) instead, to perform the operation inplace on the original object.\n",
            "\n",
            "\n",
            "  df_fraud['Payment_Method'].fillna(df_fraud['Payment_Method'].mode()[0], inplace=True)\n"
          ]
        }
      ]
    },
    {
      "cell_type": "code",
      "source": [],
      "metadata": {
        "id": "SM47J6D7scqj"
      },
      "execution_count": null,
      "outputs": []
    }
  ]
}